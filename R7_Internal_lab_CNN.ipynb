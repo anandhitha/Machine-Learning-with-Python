{
  "nbformat": 4,
  "nbformat_minor": 0,
  "metadata": {
    "colab": {
      "name": "R7_Internal_lab_CNN.ipynb",
      "provenance": [],
      "collapsed_sections": [],
      "include_colab_link": true
    },
    "kernelspec": {
      "name": "python3",
      "display_name": "Python 3"
    },
    "accelerator": "GPU"
  },
  "cells": [
    {
      "cell_type": "markdown",
      "metadata": {
        "id": "view-in-github",
        "colab_type": "text"
      },
      "source": [
        "<a href=\"https://colab.research.google.com/github/anandhitha/Machine-Learning-with-Python/blob/master/R7_Internal_lab_CNN.ipynb\" target=\"_parent\"><img src=\"https://colab.research.google.com/assets/colab-badge.svg\" alt=\"Open In Colab\"/></a>"
      ]
    },
    {
      "cell_type": "markdown",
      "metadata": {
        "id": "MyfMmMnPJjvn"
      },
      "source": [
        "## Train a simple convnet on the Fashion MNIST dataset"
      ]
    },
    {
      "cell_type": "markdown",
      "metadata": {
        "id": "zjcGOJhcJjvp"
      },
      "source": [
        "In this, we will see how to deal with image data and train a convnet for image classification task."
      ]
    },
    {
      "cell_type": "markdown",
      "metadata": {
        "id": "jR0Pl2XjJjvq"
      },
      "source": [
        "### Load the  `fashion_mnist`  dataset\n",
        "\n",
        "** Use keras.datasets to load the dataset **"
      ]
    },
    {
      "cell_type": "code",
      "metadata": {
        "id": "j9DkkAkPhCY-"
      },
      "source": [
        "import tensorflow as tf"
      ],
      "execution_count": null,
      "outputs": []
    },
    {
      "cell_type": "code",
      "metadata": {
        "id": "Qr75v_UYJjvs"
      },
      "source": [
        "from keras.datasets import fashion_mnist\n",
        "(x_train, y_train), (x_test, y_test) = fashion_mnist.load_data()"
      ],
      "execution_count": null,
      "outputs": []
    },
    {
      "cell_type": "markdown",
      "metadata": {
        "id": "hTI42-0qJjvw"
      },
      "source": [
        "### Find no.of samples are there in training and test datasets"
      ]
    },
    {
      "cell_type": "code",
      "metadata": {
        "id": "g2sf67VoJjvx",
        "colab": {
          "base_uri": "https://localhost:8080/"
        },
        "outputId": "cb05ebe1-c17d-4d92-e4f6-564bbba11f73"
      },
      "source": [
        "x_train.shape"
      ],
      "execution_count": null,
      "outputs": [
        {
          "output_type": "execute_result",
          "data": {
            "text/plain": [
              "(60000, 28, 28)"
            ]
          },
          "metadata": {
            "tags": []
          },
          "execution_count": 86
        }
      ]
    },
    {
      "cell_type": "code",
      "metadata": {
        "id": "zewyDcBlJjv1",
        "colab": {
          "base_uri": "https://localhost:8080/"
        },
        "outputId": "c18d50fa-cfe9-4b27-ef54-9624f739ddb8"
      },
      "source": [
        "x_test.shape"
      ],
      "execution_count": null,
      "outputs": [
        {
          "output_type": "execute_result",
          "data": {
            "text/plain": [
              "(10000, 28, 28)"
            ]
          },
          "metadata": {
            "tags": []
          },
          "execution_count": 87
        }
      ]
    },
    {
      "cell_type": "markdown",
      "metadata": {
        "id": "WytT2eRnJjv4"
      },
      "source": [
        "### Find dimensions of an image in the dataset"
      ]
    },
    {
      "cell_type": "code",
      "metadata": {
        "colab": {
          "base_uri": "https://localhost:8080/"
        },
        "id": "_8t4zaIhiWhT",
        "outputId": "adb8d628-49fc-4fb5-904e-5b8001c4f26f"
      },
      "source": [
        "x_train.shape[1:3]"
      ],
      "execution_count": null,
      "outputs": [
        {
          "output_type": "execute_result",
          "data": {
            "text/plain": [
              "(28, 28)"
            ]
          },
          "metadata": {
            "tags": []
          },
          "execution_count": 88
        }
      ]
    },
    {
      "cell_type": "code",
      "metadata": {
        "id": "GjnDlGnQilRF"
      },
      "source": [
        "### Find dimensions of an image in the dataset"
      ],
      "execution_count": null,
      "outputs": []
    },
    {
      "cell_type": "code",
      "metadata": {
        "id": "XycQGBSGJjv5",
        "colab": {
          "base_uri": "https://localhost:8080/",
          "height": 294
        },
        "outputId": "e7582582-5d54-4938-fd0f-6375ef46fac6"
      },
      "source": [
        "#Let's review the data\r\n",
        "import matplotlib.pyplot as plt\r\n",
        "import numpy as np\r\n",
        "img_num = np.random.randint(0, x_test.shape[0]) #Get a random integer between 0 and number of examples in test dataset\r\n",
        "plt.imshow(x_test[img_num],cmap='gray') #Show the image from test dataset\r\n",
        "plt.suptitle('Number: ' + str(y_test[img_num]))\r\n",
        "plt.show()"
      ],
      "execution_count": null,
      "outputs": [
        {
          "output_type": "display_data",
          "data": {
            "image/png": "[encoded data removed]",
            "text/plain": [
              "<Figure size 432x288 with 1 Axes>"
            ]
          },
          "metadata": {
            "tags": [],
            "needs_background": "light"
          }
        }
      ]
    },
    {
      "cell_type": "markdown",
      "metadata": {
        "id": "5jtdZ7RqJjv8"
      },
      "source": [
        "### Convert train and test labels to one hot vectors\n",
        "\n",
        "** check `keras.utils.to_categorical()` **"
      ]
    },
    {
      "cell_type": "code",
      "metadata": {
        "id": "sAD3q5I6Jjv9"
      },
      "source": [
        "#Convert labels to one hot encoding\r\n",
        "y_train = tf.keras.utils.to_categorical(y_train, num_classes=10)"
      ],
      "execution_count": null,
      "outputs": []
    },
    {
      "cell_type": "code",
      "metadata": {
        "id": "mgHSCXy3JjwA"
      },
      "source": [
        "y_test = tf.keras.utils.to_categorical(y_test,num_classes=10)"
      ],
      "execution_count": null,
      "outputs": []
    },
    {
      "cell_type": "markdown",
      "metadata": {
        "id": "xO5BRBzBJjwD"
      },
      "source": [
        "### Normalize both the train and test image data from 0-255 to 0-1"
      ]
    },
    {
      "cell_type": "code",
      "metadata": {
        "id": "Lr1F8XJRBve7"
      },
      "source": [
        "x_test = x_test.astype('float32')\r\n",
        "x_train = x_train.astype('float32')\r\n",
        "x_train/=255\r\n",
        "x_test/=255"
      ],
      "execution_count": null,
      "outputs": []
    },
    {
      "cell_type": "markdown",
      "metadata": {
        "id": "da5-DwgrJjwM"
      },
      "source": [
        "### Reshape the data from 28x28 to 28x28x1 to match input dimensions in Conv2D layer in keras"
      ]
    },
    {
      "cell_type": "code",
      "metadata": {
        "id": "LPGVQ-JJJjwN"
      },
      "source": [
        "#(number_of_samples/batch_size, image_Width, image_height, number of channels)\r\n",
        "x_train = x_train.reshape(x_train.shape[0],28,28,1)\r\n",
        "x_test = x_test.reshape(x_test.shape[0],28,28,1)"
      ],
      "execution_count": null,
      "outputs": []
    },
    {
      "cell_type": "code",
      "metadata": {
        "colab": {
          "base_uri": "https://localhost:8080/"
        },
        "id": "3H4COw8TGvSj",
        "outputId": "805f7454-40b4-450b-b77d-412ee02aea76"
      },
      "source": [
        "x_train.shape"
      ],
      "execution_count": null,
      "outputs": [
        {
          "output_type": "execute_result",
          "data": {
            "text/plain": [
              "(60000, 28, 28, 1)"
            ]
          },
          "metadata": {
            "tags": []
          },
          "execution_count": 95
        }
      ]
    },
    {
      "cell_type": "code",
      "metadata": {
        "colab": {
          "base_uri": "https://localhost:8080/"
        },
        "id": "tAVkCGpKGzqK",
        "outputId": "839d470e-59dc-4ef9-dd9a-fd5b81d28618"
      },
      "source": [
        "x_test.shape"
      ],
      "execution_count": null,
      "outputs": [
        {
          "output_type": "execute_result",
          "data": {
            "text/plain": [
              "(10000, 28, 28, 1)"
            ]
          },
          "metadata": {
            "tags": []
          },
          "execution_count": 96
        }
      ]
    },
    {
      "cell_type": "markdown",
      "metadata": {
        "id": "OFRRTJq8JjwQ"
      },
      "source": [
        "### Import the necessary layers from keras to build the model"
      ]
    },
    {
      "cell_type": "code",
      "metadata": {
        "id": "dWTZYnKSJjwR"
      },
      "source": [
        "import keras\r\n",
        "from keras.models import Sequential\r\n",
        "from keras.layers import Dense, Activation, Dropout, Flatten, Convolution2D, MaxPooling2D\r\n",
        "from keras.utils import np_utils"
      ],
      "execution_count": null,
      "outputs": []
    },
    {
      "cell_type": "markdown",
      "metadata": {
        "id": "C18AoS7eJjwU"
      },
      "source": [
        "### Build a model \n",
        "\n",
        "** with 2 Conv layers having `32 3x3 filters` in both convolutions with `relu activations` and `flatten` before passing the feature map into 2 fully connected layers (or Dense Layers) having 128 and 10 neurons with `relu` and `softmax` activations respectively. Now, using `categorical_crossentropy` loss with `adam` optimizer train the model with early stopping `patience=5` and no.of `epochs=10`. **"
      ]
    },
    {
      "cell_type": "code",
      "metadata": {
        "id": "DORCLgSwJjwV",
        "colab": {
          "base_uri": "https://localhost:8080/"
        },
        "outputId": "356dcf22-3cf1-40fa-bef3-74ba8ea9eda8"
      },
      "source": [
        "model = Sequential()\r\n",
        "model.add(Convolution2D(32, kernel_size=(3,3), activation = 'relu', input_shape = (28,28,1)))\r\n",
        "model.add(Convolution2D(32,kernel_size=(3,3),activation='relu'))\r\n",
        "model.add(Flatten())\r\n",
        "model.add(Dense(128,activation = 'relu'))\r\n",
        "model.add(Dense(10, activation='softmax'))\r\n",
        "\r\n",
        "#Loss and Optimizer\r\n",
        "model.compile(loss = 'categorical_crossentropy', optimizer = 'adam', metrics = ['accuracy'])\r\n",
        "early_stopping = keras.callbacks.EarlyStopping(monitor = 'val_accuracy', patience = 5, verbose = 1, mode = 'auto', min_delta=0.001)\r\n",
        "\r\n",
        "callback_list = [early_stopping]\r\n",
        "model.fit(x_train, y_train, batch_size = 500, epochs = 20, validation_data = (x_test, y_test), callbacks = callback_list)"
      ],
      "execution_count": null,
      "outputs": [
        {
          "output_type": "stream",
          "text": [
            "Epoch 1/20\n",
            "120/120 [==============================] - 2s 18ms/step - loss: 0.8034 - accuracy: 0.7176 - val_loss: 0.4033 - val_accuracy: 0.8593\n",
            "Epoch 2/20\n",
            "120/120 [==============================] - 2s 16ms/step - loss: 0.3267 - accuracy: 0.8838 - val_loss: 0.3179 - val_accuracy: 0.8881\n",
            "Epoch 3/20\n",
            "120/120 [==============================] - 2s 16ms/step - loss: 0.2639 - accuracy: 0.9039 - val_loss: 0.2883 - val_accuracy: 0.8956\n",
            "Epoch 4/20\n",
            "120/120 [==============================] - 2s 16ms/step - loss: 0.2348 - accuracy: 0.9160 - val_loss: 0.2832 - val_accuracy: 0.8982\n",
            "Epoch 5/20\n",
            "120/120 [==============================] - 2s 16ms/step - loss: 0.1998 - accuracy: 0.9272 - val_loss: 0.2676 - val_accuracy: 0.9031\n",
            "Epoch 6/20\n",
            "120/120 [==============================] - 2s 16ms/step - loss: 0.1820 - accuracy: 0.9325 - val_loss: 0.2583 - val_accuracy: 0.9073\n",
            "Epoch 7/20\n",
            "120/120 [==============================] - 2s 16ms/step - loss: 0.1563 - accuracy: 0.9425 - val_loss: 0.2526 - val_accuracy: 0.9107\n",
            "Epoch 8/20\n",
            "120/120 [==============================] - 2s 16ms/step - loss: 0.1365 - accuracy: 0.9506 - val_loss: 0.2661 - val_accuracy: 0.9071\n",
            "Epoch 9/20\n",
            "120/120 [==============================] - 2s 16ms/step - loss: 0.1191 - accuracy: 0.9580 - val_loss: 0.2604 - val_accuracy: 0.9129\n",
            "Epoch 10/20\n",
            "120/120 [==============================] - 2s 16ms/step - loss: 0.1049 - accuracy: 0.9621 - val_loss: 0.2769 - val_accuracy: 0.9090\n",
            "Epoch 11/20\n",
            "120/120 [==============================] - 2s 17ms/step - loss: 0.0876 - accuracy: 0.9696 - val_loss: 0.2731 - val_accuracy: 0.9138\n",
            "Epoch 12/20\n",
            "120/120 [==============================] - 2s 17ms/step - loss: 0.0725 - accuracy: 0.9745 - val_loss: 0.2790 - val_accuracy: 0.9159\n",
            "Epoch 13/20\n",
            "120/120 [==============================] - 2s 17ms/step - loss: 0.0601 - accuracy: 0.9795 - val_loss: 0.2910 - val_accuracy: 0.9132\n",
            "Epoch 14/20\n",
            "120/120 [==============================] - 2s 17ms/step - loss: 0.0476 - accuracy: 0.9859 - val_loss: 0.3131 - val_accuracy: 0.9175\n",
            "Epoch 15/20\n",
            "120/120 [==============================] - 2s 17ms/step - loss: 0.0398 - accuracy: 0.9875 - val_loss: 0.3322 - val_accuracy: 0.9163\n",
            "Epoch 16/20\n",
            "120/120 [==============================] - 2s 17ms/step - loss: 0.0323 - accuracy: 0.9897 - val_loss: 0.3409 - val_accuracy: 0.9188\n",
            "Epoch 17/20\n",
            "120/120 [==============================] - 2s 17ms/step - loss: 0.0240 - accuracy: 0.9932 - val_loss: 0.3701 - val_accuracy: 0.9169\n",
            "Epoch 18/20\n",
            "120/120 [==============================] - 2s 17ms/step - loss: 0.0206 - accuracy: 0.9945 - val_loss: 0.3857 - val_accuracy: 0.9151\n",
            "Epoch 19/20\n",
            "120/120 [==============================] - 2s 17ms/step - loss: 0.0159 - accuracy: 0.9957 - val_loss: 0.3984 - val_accuracy: 0.9139\n",
            "Epoch 20/20\n",
            "120/120 [==============================] - 2s 17ms/step - loss: 0.0133 - accuracy: 0.9968 - val_loss: 0.4231 - val_accuracy: 0.9154\n"
          ],
          "name": "stdout"
        },
        {
          "output_type": "execute_result",
          "data": {
            "text/plain": [
              "<tensorflow.python.keras.callbacks.History at 0x7f8ac7c7aac8>"
            ]
          },
          "metadata": {
            "tags": []
          },
          "execution_count": 98
        }
      ]
    },
    {
      "cell_type": "markdown",
      "metadata": {
        "id": "ju69vKdIJjwX"
      },
      "source": [
        "### Now, to the above model add `max` pooling layer of `filter size 2x2` and `dropout` layer with `p=0.25` after the 2 conv layers and run the model"
      ]
    },
    {
      "cell_type": "code",
      "metadata": {
        "id": "L2hAP94vJjwY",
        "colab": {
          "base_uri": "https://localhost:8080/"
        },
        "outputId": "aa1879ce-3b41-4ebf-ad4a-6fc706054492"
      },
      "source": [
        "model2 = Sequential()\r\n",
        "model2.add(Convolution2D(32, kernel_size=(3,3), activation = 'relu', input_shape = (28,28,1)))\r\n",
        "model2.add(Convolution2D(32,kernel_size=(3,3),activation='relu'))\r\n",
        "model2.add(MaxPooling2D(2,2))\r\n",
        "model2.add(Dropout(0.25))\r\n",
        "model2.add(Flatten())\r\n",
        "model2.add(Dense(128,activation = 'relu'))\r\n",
        "model2.add(Dense(10, activation='softmax'))\r\n",
        "\r\n",
        "#Loss and Optimizer\r\n",
        "model2.compile(loss = 'categorical_crossentropy', optimizer = 'adam', metrics = ['accuracy'])\r\n",
        "early_stopping = keras.callbacks.EarlyStopping(monitor = 'val_accuracy', patience = 5, verbose = 1, mode = 'auto', min_delta=0.001)\r\n",
        "\r\n",
        "callback_list = [early_stopping]\r\n",
        "model2.fit(x_train, y_train, batch_size = 500, epochs = 20, validation_data = (x_test, y_test), callbacks = callback_list)"
      ],
      "execution_count": null,
      "outputs": [
        {
          "output_type": "stream",
          "text": [
            "Epoch 1/20\n",
            "120/120 [==============================] - 2s 18ms/step - loss: 0.8653 - accuracy: 0.7140 - val_loss: 0.4056 - val_accuracy: 0.8566\n",
            "Epoch 2/20\n",
            "120/120 [==============================] - 2s 16ms/step - loss: 0.3760 - accuracy: 0.8676 - val_loss: 0.3390 - val_accuracy: 0.8814\n",
            "Epoch 3/20\n",
            "120/120 [==============================] - 2s 16ms/step - loss: 0.3182 - accuracy: 0.8885 - val_loss: 0.3065 - val_accuracy: 0.8899\n",
            "Epoch 4/20\n",
            "120/120 [==============================] - 2s 16ms/step - loss: 0.2923 - accuracy: 0.8934 - val_loss: 0.2901 - val_accuracy: 0.8955\n",
            "Epoch 5/20\n",
            "120/120 [==============================] - 2s 16ms/step - loss: 0.2641 - accuracy: 0.9039 - val_loss: 0.2877 - val_accuracy: 0.8938\n",
            "Epoch 6/20\n",
            "120/120 [==============================] - 2s 16ms/step - loss: 0.2457 - accuracy: 0.9107 - val_loss: 0.2610 - val_accuracy: 0.9061\n",
            "Epoch 7/20\n",
            "120/120 [==============================] - 2s 16ms/step - loss: 0.2219 - accuracy: 0.9191 - val_loss: 0.2539 - val_accuracy: 0.9064\n",
            "Epoch 8/20\n",
            "120/120 [==============================] - 2s 16ms/step - loss: 0.2090 - accuracy: 0.9234 - val_loss: 0.2493 - val_accuracy: 0.9069\n",
            "Epoch 9/20\n",
            "120/120 [==============================] - 2s 16ms/step - loss: 0.1940 - accuracy: 0.9294 - val_loss: 0.2400 - val_accuracy: 0.9111\n",
            "Epoch 10/20\n",
            "120/120 [==============================] - 2s 16ms/step - loss: 0.1951 - accuracy: 0.9277 - val_loss: 0.2442 - val_accuracy: 0.9133\n",
            "Epoch 11/20\n",
            "120/120 [==============================] - 2s 15ms/step - loss: 0.1729 - accuracy: 0.9366 - val_loss: 0.2372 - val_accuracy: 0.9133\n",
            "Epoch 12/20\n",
            "120/120 [==============================] - 2s 15ms/step - loss: 0.1610 - accuracy: 0.9417 - val_loss: 0.2274 - val_accuracy: 0.9188\n",
            "Epoch 13/20\n",
            "120/120 [==============================] - 2s 15ms/step - loss: 0.1518 - accuracy: 0.9444 - val_loss: 0.2303 - val_accuracy: 0.9189\n",
            "Epoch 14/20\n",
            "120/120 [==============================] - 2s 15ms/step - loss: 0.1396 - accuracy: 0.9474 - val_loss: 0.2381 - val_accuracy: 0.9176\n",
            "Epoch 15/20\n",
            "120/120 [==============================] - 2s 16ms/step - loss: 0.1320 - accuracy: 0.9526 - val_loss: 0.2299 - val_accuracy: 0.9225\n",
            "Epoch 16/20\n",
            "120/120 [==============================] - 2s 16ms/step - loss: 0.1262 - accuracy: 0.9524 - val_loss: 0.2366 - val_accuracy: 0.9197\n",
            "Epoch 17/20\n",
            "120/120 [==============================] - 2s 16ms/step - loss: 0.1195 - accuracy: 0.9565 - val_loss: 0.2339 - val_accuracy: 0.9227\n",
            "Epoch 18/20\n",
            "120/120 [==============================] - 2s 16ms/step - loss: 0.1076 - accuracy: 0.9600 - val_loss: 0.2375 - val_accuracy: 0.9229\n",
            "Epoch 19/20\n",
            "120/120 [==============================] - 2s 15ms/step - loss: 0.1010 - accuracy: 0.9628 - val_loss: 0.2354 - val_accuracy: 0.9218\n",
            "Epoch 20/20\n",
            "120/120 [==============================] - 2s 16ms/step - loss: 0.0961 - accuracy: 0.9638 - val_loss: 0.2373 - val_accuracy: 0.9250\n"
          ],
          "name": "stdout"
        },
        {
          "output_type": "execute_result",
          "data": {
            "text/plain": [
              "<tensorflow.python.keras.callbacks.History at 0x7f8b321206d8>"
            ]
          },
          "metadata": {
            "tags": []
          },
          "execution_count": 99
        }
      ]
    },
    {
      "cell_type": "code",
      "metadata": {
        "colab": {
          "base_uri": "https://localhost:8080/"
        },
        "id": "aGHn-bIf2LyG",
        "outputId": "5f0f5a75-93cf-4f30-f249-403b0d333fa9"
      },
      "source": [
        "model2.summary()"
      ],
      "execution_count": null,
      "outputs": [
        {
          "output_type": "stream",
          "text": [
            "Model: \"sequential_5\"\n",
            "_________________________________________________________________\n",
            "Layer (type)                 Output Shape              Param #   \n",
            "=================================================================\n",
            "conv2d_10 (Conv2D)           (None, 26, 26, 32)        320       \n",
            "_________________________________________________________________\n",
            "conv2d_11 (Conv2D)           (None, 24, 24, 32)        9248      \n",
            "_________________________________________________________________\n",
            "max_pooling2d_3 (MaxPooling2 (None, 12, 12, 32)        0         \n",
            "_________________________________________________________________\n",
            "dropout_2 (Dropout)          (None, 12, 12, 32)        0         \n",
            "_________________________________________________________________\n",
            "flatten_5 (Flatten)          (None, 4608)              0         \n",
            "_________________________________________________________________\n",
            "dense_10 (Dense)             (None, 128)               589952    \n",
            "_________________________________________________________________\n",
            "dense_11 (Dense)             (None, 10)                1290      \n",
            "=================================================================\n",
            "Total params: 600,810\n",
            "Trainable params: 600,810\n",
            "Non-trainable params: 0\n",
            "_________________________________________________________________\n"
          ],
          "name": "stdout"
        }
      ]
    },
    {
      "cell_type": "markdown",
      "metadata": {
        "id": "lGTA3bfEJjwa"
      },
      "source": [
        "### Now, to the above model, lets add Data Augmentation "
      ]
    },
    {
      "cell_type": "markdown",
      "metadata": {
        "id": "F6gX8n5SJjwb"
      },
      "source": [
        "### Import the ImageDataGenrator from keras and fit the training images"
      ]
    },
    {
      "cell_type": "code",
      "metadata": {
        "id": "Cbz4uHBuJjwc"
      },
      "source": [
        "from keras.preprocessing.image import ImageDataGenerator\r\n",
        "\r\n",
        "#Define some parameters\r\n",
        "img_size = 28\r\n",
        "img_depth = 1\r\n",
        "\r\n",
        "#ImageDataGenerator declaration with 10% data as test (90% for training)\r\n",
        "datagen= ImageDataGenerator(featurewise_center = False, # set input mean to be over 0 over the dataset\r\n",
        "                            samplewise_center = False, # set each sample mean to 0\r\n",
        "                            featurewise_std_normalization = False, # divide inputs by std of the dataset\r\n",
        "                            samplewise_std_normalization = False, # divide inputs by std of the dataset\r\n",
        "                            rotation_range=50, \r\n",
        "                            width_shift_range=0.1,\r\n",
        "                            height_shift_range=0.1,\r\n",
        "                            horizontal_flip=False, # randomly flip images horizontally\r\n",
        "                            vertical_flip = False) # randomly flip images vertically\r\n",
        "\r\n",
        "# prepare the data generator\r\n",
        "datagen.fit(x_train)"
      ],
      "execution_count": null,
      "outputs": []
    },
    {
      "cell_type": "code",
      "metadata": {
        "colab": {
          "base_uri": "https://localhost:8080/"
        },
        "id": "UB8LnIEL81N8",
        "outputId": "a08fea6e-ee9c-4ae2-d5b8-df928d7c66fb"
      },
      "source": [
        "x_train.shape"
      ],
      "execution_count": null,
      "outputs": [
        {
          "output_type": "execute_result",
          "data": {
            "text/plain": [
              "(60000, 28, 28, 1)"
            ]
          },
          "metadata": {
            "tags": []
          },
          "execution_count": 102
        }
      ]
    },
    {
      "cell_type": "markdown",
      "metadata": {
        "id": "pl-8dOo7Jjwf"
      },
      "source": [
        "#### Showing 5 versions of the first image in training dataset using image datagenerator.flow()"
      ]
    },
    {
      "cell_type": "code",
      "metadata": {
        "scrolled": true,
        "id": "DpI1_McYJjwg",
        "colab": {
          "base_uri": "https://localhost:8080/",
          "height": 89
        },
        "outputId": "8c3d66f4-09f4-49d6-8701-780916f56d08"
      },
      "source": [
        "from matplotlib import pyplot as plt\n",
        "train_gen = datagen.flow(x_train[0:1], batch_size=1)\n",
        "for i in range(1, 6):\n",
        "    plt.subplot(1,5,i)\n",
        "    plt.axis(\"off\")\n",
        "    plt.imshow(gen.next().squeeze(), cmap='gray')\n",
        "    plt.plot()\n",
        "plt.show()"
      ],
      "execution_count": null,
      "outputs": [
        {
          "output_type": "display_data",
          "data": {
            "image/png": "[encoded data removed]",
            "text/plain": [
              "<Figure size 432x288 with 5 Axes>"
            ]
          },
          "metadata": {
            "tags": [],
            "needs_background": "light"
          }
        }
      ]
    },
    {
      "cell_type": "markdown",
      "metadata": {
        "id": "dmPl5yE8Jjwm"
      },
      "source": [
        "### Run the above model using fit_generator()"
      ]
    },
    {
      "cell_type": "code",
      "metadata": {
        "id": "44ZnDdJYJjwn",
        "colab": {
          "base_uri": "https://localhost:8080/"
        },
        "outputId": "b4e805eb-77d5-4b2b-ae59-53363b47e36c"
      },
      "source": [
        "model3 = Sequential()\r\n",
        "model3.add(Convolution2D(32, kernel_size=(3,3), activation = 'relu', input_shape = (28,28,1)))\r\n",
        "model3.add(Convolution2D(32,kernel_size=(3,3),activation='relu'))\r\n",
        "model3.add(MaxPooling2D(2,2))\r\n",
        "model3.add(Dropout(0.25))\r\n",
        "model3.add(Flatten())\r\n",
        "model3.add(Dense(128,activation = 'relu'))\r\n",
        "model3.add(Dense(10, activation='softmax'))\r\n",
        "\r\n",
        "#Loss and Optimizer\r\n",
        "model3.compile(loss = 'categorical_crossentropy', optimizer = 'adam', metrics = ['accuracy'])\r\n",
        "early_stopping = keras.callbacks.EarlyStopping(monitor = 'val_accuracy', patience = 5, verbose = 1, mode = 'auto', min_delta=0.001)\r\n",
        "\r\n",
        "callback_list = [early_stopping]\r\n",
        "model3.fit_generator(datagen.flow(x_train,y_train, batch_size=32),\r\n",
        "                    epochs=20,\r\n",
        "                    steps_per_epoch= x_train.shape[0]//32,  #Number of training images//batch_size\r\n",
        "                    validation_data=(x_test,y_test),\r\n",
        "                    callbacks = callback_list)"
      ],
      "execution_count": null,
      "outputs": [
        {
          "output_type": "stream",
          "text": [
            "/usr/local/lib/python3.6/dist-packages/tensorflow/python/keras/engine/training.py:1844: UserWarning: `Model.fit_generator` is deprecated and will be removed in a future version. Please use `Model.fit`, which supports generators.\n",
            "  warnings.warn('`Model.fit_generator` is deprecated and '\n"
          ],
          "name": "stderr"
        },
        {
          "output_type": "stream",
          "text": [
            "Epoch 1/20\n",
            "1875/1875 [==============================] - 18s 9ms/step - loss: 0.9777 - accuracy: 0.6424 - val_loss: 0.5409 - val_accuracy: 0.7968\n",
            "Epoch 2/20\n",
            "1875/1875 [==============================] - 18s 9ms/step - loss: 0.5885 - accuracy: 0.7758 - val_loss: 0.4976 - val_accuracy: 0.8156\n",
            "Epoch 3/20\n",
            "1875/1875 [==============================] - 18s 9ms/step - loss: 0.5175 - accuracy: 0.8033 - val_loss: 0.4275 - val_accuracy: 0.8460\n",
            "Epoch 4/20\n",
            "1875/1875 [==============================] - 17s 9ms/step - loss: 0.4688 - accuracy: 0.8236 - val_loss: 0.4272 - val_accuracy: 0.8385\n",
            "Epoch 5/20\n",
            "1875/1875 [==============================] - 18s 10ms/step - loss: 0.4503 - accuracy: 0.8303 - val_loss: 0.3922 - val_accuracy: 0.8588\n",
            "Epoch 6/20\n",
            "1875/1875 [==============================] - 17s 9ms/step - loss: 0.4271 - accuracy: 0.8398 - val_loss: 0.3681 - val_accuracy: 0.8650\n",
            "Epoch 7/20\n",
            "1875/1875 [==============================] - 18s 9ms/step - loss: 0.4044 - accuracy: 0.8487 - val_loss: 0.4128 - val_accuracy: 0.8561\n",
            "Epoch 8/20\n",
            "1875/1875 [==============================] - 18s 9ms/step - loss: 0.4026 - accuracy: 0.8490 - val_loss: 0.3625 - val_accuracy: 0.8704\n",
            "Epoch 9/20\n",
            "1875/1875 [==============================] - 18s 9ms/step - loss: 0.3918 - accuracy: 0.8538 - val_loss: 0.3796 - val_accuracy: 0.8633\n",
            "Epoch 10/20\n",
            "1875/1875 [==============================] - 18s 9ms/step - loss: 0.3801 - accuracy: 0.8578 - val_loss: 0.3644 - val_accuracy: 0.8726\n",
            "Epoch 11/20\n",
            "1875/1875 [==============================] - 17s 9ms/step - loss: 0.3696 - accuracy: 0.8637 - val_loss: 0.3395 - val_accuracy: 0.8787\n",
            "Epoch 12/20\n",
            "1875/1875 [==============================] - 18s 9ms/step - loss: 0.3622 - accuracy: 0.8644 - val_loss: 0.3559 - val_accuracy: 0.8713\n",
            "Epoch 13/20\n",
            "1875/1875 [==============================] - 18s 9ms/step - loss: 0.3563 - accuracy: 0.8670 - val_loss: 0.3738 - val_accuracy: 0.8669\n",
            "Epoch 14/20\n",
            "1875/1875 [==============================] - 18s 9ms/step - loss: 0.3494 - accuracy: 0.8705 - val_loss: 0.3371 - val_accuracy: 0.8803\n",
            "Epoch 15/20\n",
            "1875/1875 [==============================] - 17s 9ms/step - loss: 0.3506 - accuracy: 0.8705 - val_loss: 0.3390 - val_accuracy: 0.8814\n",
            "Epoch 16/20\n",
            "1875/1875 [==============================] - 18s 9ms/step - loss: 0.3503 - accuracy: 0.8700 - val_loss: 0.3353 - val_accuracy: 0.8807\n",
            "Epoch 17/20\n",
            "1875/1875 [==============================] - 18s 9ms/step - loss: 0.3435 - accuracy: 0.8722 - val_loss: 0.3340 - val_accuracy: 0.8813\n",
            "Epoch 18/20\n",
            "1875/1875 [==============================] - 18s 9ms/step - loss: 0.3378 - accuracy: 0.8742 - val_loss: 0.3265 - val_accuracy: 0.8851\n",
            "Epoch 19/20\n",
            "1875/1875 [==============================] - 17s 9ms/step - loss: 0.3342 - accuracy: 0.8787 - val_loss: 0.3237 - val_accuracy: 0.8856\n",
            "Epoch 20/20\n",
            "1875/1875 [==============================] - 18s 9ms/step - loss: 0.3329 - accuracy: 0.8787 - val_loss: 0.3407 - val_accuracy: 0.8860\n"
          ],
          "name": "stdout"
        },
        {
          "output_type": "execute_result",
          "data": {
            "text/plain": [
              "<tensorflow.python.keras.callbacks.History at 0x7f8b3a17a080>"
            ]
          },
          "metadata": {
            "tags": []
          },
          "execution_count": 104
        }
      ]
    },
    {
      "cell_type": "markdown",
      "metadata": {
        "id": "MwQQW5iOJjwq"
      },
      "source": [
        "###  Report the final train and validation accuracy"
      ]
    },
    {
      "cell_type": "code",
      "metadata": {
        "id": "c1SrtBEPJjwq",
        "colab": {
          "base_uri": "https://localhost:8080/"
        },
        "outputId": "5631e563-05eb-46b4-ef44-0ae51b062bbf"
      },
      "source": [
        "#Model Summary\r\n",
        "model3.summary()"
      ],
      "execution_count": null,
      "outputs": [
        {
          "output_type": "stream",
          "text": [
            "Model: \"sequential_6\"\n",
            "_________________________________________________________________\n",
            "Layer (type)                 Output Shape              Param #   \n",
            "=================================================================\n",
            "conv2d_12 (Conv2D)           (None, 26, 26, 32)        320       \n",
            "_________________________________________________________________\n",
            "conv2d_13 (Conv2D)           (None, 24, 24, 32)        9248      \n",
            "_________________________________________________________________\n",
            "max_pooling2d_4 (MaxPooling2 (None, 12, 12, 32)        0         \n",
            "_________________________________________________________________\n",
            "dropout_3 (Dropout)          (None, 12, 12, 32)        0         \n",
            "_________________________________________________________________\n",
            "flatten_6 (Flatten)          (None, 4608)              0         \n",
            "_________________________________________________________________\n",
            "dense_12 (Dense)             (None, 128)               589952    \n",
            "_________________________________________________________________\n",
            "dense_13 (Dense)             (None, 10)                1290      \n",
            "=================================================================\n",
            "Total params: 600,810\n",
            "Trainable params: 600,810\n",
            "Non-trainable params: 0\n",
            "_________________________________________________________________\n"
          ],
          "name": "stdout"
        }
      ]
    },
    {
      "cell_type": "code",
      "metadata": {
        "id": "ZBwVWNQC2qZD",
        "colab": {
          "base_uri": "https://localhost:8080/"
        },
        "outputId": "391f21b0-8498-4ec6-da19-2638cda74778"
      },
      "source": [
        "#Model Summary\r\n",
        "model3.evaluate(x_test,y_test)"
      ],
      "execution_count": null,
      "outputs": [
        {
          "output_type": "stream",
          "text": [
            "313/313 [==============================] - 1s 2ms/step - loss: 0.3407 - accuracy: 0.8860\n"
          ],
          "name": "stdout"
        },
        {
          "output_type": "execute_result",
          "data": {
            "text/plain": [
              "[0.34065157175064087, 0.8859999775886536]"
            ]
          },
          "metadata": {
            "tags": []
          },
          "execution_count": 106
        }
      ]
    },
    {
      "cell_type": "markdown",
      "metadata": {
        "id": "8KXqmUDW2rM1"
      },
      "source": [
        "## **DATA AUGMENTATION ON CIFAR10 DATASET**"
      ]
    },
    {
      "cell_type": "markdown",
      "metadata": {
        "id": "8mja6OgQ3L18"
      },
      "source": [
        "One of the best ways to improve the performance of a Deep Learning model is to add more data to the training set. Aside from gathering more instances from the wild that are representative of the distinction task, we want to develop a set of methods that enhance the data we already have. There are many ways to augment existing datasets and produce more robust models. In the image domain, these are done to utilize the full power of the convolutional neural network, which is able to capture translational invariance. This translational invariance is what makes image recognition such a difficult task in the first place. You want the dataset to be representative of the many different positions, angles, lightings, and miscellaneous distortions that are of interest to the vision task."
      ]
    },
    {
      "cell_type": "markdown",
      "metadata": {
        "id": "6HzVTPUM3WZJ"
      },
      "source": [
        "### **Import neessary libraries for data augmentation**"
      ]
    },
    {
      "cell_type": "code",
      "metadata": {
        "id": "PPM558TX4KMb"
      },
      "source": [
        "import tensorflow as tf\r\n",
        "from keras.preprocessing.image import ImageDataGenerator"
      ],
      "execution_count": null,
      "outputs": []
    },
    {
      "cell_type": "markdown",
      "metadata": {
        "id": "W6hicLwP4SqY"
      },
      "source": [
        "### **Load CIFAR10 dataset**"
      ]
    },
    {
      "cell_type": "code",
      "metadata": {
        "id": "NQ1WzrXd4WNk"
      },
      "source": [
        "from keras.datasets import cifar10\r\n",
        "(trainX, trainY), (testX, testY) = cifar10.load_data()"
      ],
      "execution_count": null,
      "outputs": []
    },
    {
      "cell_type": "code",
      "metadata": {
        "id": "R9Pht1ggHuiT",
        "colab": {
          "base_uri": "https://localhost:8080/"
        },
        "outputId": "6abe6cc5-8e64-4e6f-c37b-70fc95638846"
      },
      "source": [
        "trainX.shape"
      ],
      "execution_count": null,
      "outputs": [
        {
          "output_type": "execute_result",
          "data": {
            "text/plain": [
              "(50000, 32, 32, 3)"
            ]
          },
          "metadata": {
            "tags": []
          },
          "execution_count": 109
        }
      ]
    },
    {
      "cell_type": "code",
      "metadata": {
        "colab": {
          "base_uri": "https://localhost:8080/"
        },
        "id": "_5eNxd72FhM8",
        "outputId": "fbde2def-c802-4947-daf4-55df8639f703"
      },
      "source": [
        "testX.shape"
      ],
      "execution_count": null,
      "outputs": [
        {
          "output_type": "execute_result",
          "data": {
            "text/plain": [
              "(10000, 32, 32, 3)"
            ]
          },
          "metadata": {
            "tags": []
          },
          "execution_count": 110
        }
      ]
    },
    {
      "cell_type": "code",
      "metadata": {
        "id": "3n28ccU6Hp6s",
        "colab": {
          "base_uri": "https://localhost:8080/"
        },
        "outputId": "b894ed1f-06e3-4f43-b97b-92fc560fc7ff"
      },
      "source": [
        "trainY.shape"
      ],
      "execution_count": null,
      "outputs": [
        {
          "output_type": "execute_result",
          "data": {
            "text/plain": [
              "(50000, 1)"
            ]
          },
          "metadata": {
            "tags": []
          },
          "execution_count": 111
        }
      ]
    },
    {
      "cell_type": "markdown",
      "metadata": {
        "id": "JN3vYYhK4W0u"
      },
      "source": [
        "### **Create a data_gen funtion to genererator with image rotation,shifting image horizontally and vertically with random flip horizontally.**"
      ]
    },
    {
      "cell_type": "code",
      "metadata": {
        "id": "JJbekTKi4cmM"
      },
      "source": [
        "#ImageDataGenerator declaration with 10% data as test (90% for training)\r\n",
        "datagen1= ImageDataGenerator(featurewise_center = False, # set input mean to be over 0 over the dataset\r\n",
        "                            samplewise_center = False, # set each sample mean to 0\r\n",
        "                            featurewise_std_normalization = False, # divide inputs by std of the dataset\r\n",
        "                            samplewise_std_normalization = False, # divide inputs by std of the dataset\r\n",
        "                            rotation_range=50, \r\n",
        "                            width_shift_range=0.2,\r\n",
        "                            height_shift_range=0.1,\r\n",
        "                            horizontal_flip=True, # randomly flip images horizontally\r\n",
        "                            vertical_flip = True) # randomly flip images vertically"
      ],
      "execution_count": null,
      "outputs": []
    },
    {
      "cell_type": "markdown",
      "metadata": {
        "id": "e-SLtUhC4dK2"
      },
      "source": [
        "### **Prepare/fit the generator.**"
      ]
    },
    {
      "cell_type": "code",
      "metadata": {
        "id": "CSw8Bv2_4hb0"
      },
      "source": [
        "# prepare the data generator\r\n",
        "datagen1.fit(trainX)"
      ],
      "execution_count": null,
      "outputs": []
    },
    {
      "cell_type": "markdown",
      "metadata": {
        "id": "gYyF-P8O4jQ8"
      },
      "source": [
        "### **Generate 5 images for 1 of the image of CIFAR10 train dataset.**"
      ]
    },
    {
      "cell_type": "code",
      "metadata": {
        "id": "mXug4z234mwQ",
        "colab": {
          "base_uri": "https://localhost:8080/",
          "height": 89
        },
        "outputId": "d8a2f2de-92e0-41e8-9f16-9cf15d728029"
      },
      "source": [
        "from matplotlib import pyplot as plt\r\n",
        "gen1 = datagen1.flow(trainX[1:2], batch_size=1)\r\n",
        "for i in range(1, 6):\r\n",
        "    plt.subplot(1,5,i)\r\n",
        "    plt.axis(\"off\")\r\n",
        "    plt.imshow(gen1.next().astype('uint8').squeeze())\r\n",
        "    plt.plot()\r\n",
        "plt.show()"
      ],
      "execution_count": null,
      "outputs": [
        {
          "output_type": "display_data",
          "data": {
            "image/png": "[encoded data removed]",
            "text/plain": [
              "<Figure size 432x288 with 5 Axes>"
            ]
          },
          "metadata": {
            "tags": [],
            "needs_background": "light"
          }
        }
      ]
    },
    {
      "cell_type": "code",
      "metadata": {
        "id": "6qc5V9XbIQpJ"
      },
      "source": [
        ""
      ],
      "execution_count": null,
      "outputs": []
    }
  ]
}